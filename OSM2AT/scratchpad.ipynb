{
 "cells": [
  {
   "cell_type": "code",
   "execution_count": 1,
   "metadata": {},
   "outputs": [],
   "source": [
    "from Functions.imputation_missing_data import knn_dist_impute,get_impute_masks, feature_learning_train_sets, mode_rule,knn_feats,mlp_impute, ottawa_impute_speed\n",
    "from Functions.LTS import lts_ottawa\n",
    "from Functions.self_learning import self_learn\n",
    "from Functions.helper_functions import dedupe_var_replace\n",
    "import osmnx as ox\n",
    "import csv\n",
    "import shapely\n",
    "import numpy as np\n",
    "import pandas as pd\n",
    "import os\n",
    "\n",
    "class cyclist:\n",
    "    def __init__(self, description, cycle_speed, risk_weights, risk_allowance, risk_decay):\n",
    "        self.description = description\n",
    "        self.cycle_speed = cycle_speed\n",
    "        self.risk_weights = risk_weights\n",
    "        self.risk_allowance = risk_allowance\n",
    "        self.risk_decay = risk_decay\n",
    "    def return_beta_linear(self,edge):\n",
    "        beta = (edge[0] * self.risk_weights[0]) + (edge[1] * self.risk_weights[1]) + (edge[2] * self.risk_weights[2]) + (edge[3] * self.risk_weights[3]) + (edge[4] * self.risk_weights[4])\n",
    "        return beta"
   ]
  },
  {
   "cell_type": "code",
   "execution_count": 2,
   "metadata": {},
   "outputs": [
    {
     "name": "stderr",
     "output_type": "stream",
     "text": [
      "C:\\Users\\cconlan\\AppData\\Local\\Temp\\ipykernel_28256\\58231477.py:8: UserWarning: The `utils.config` function is deprecated and will be removed in a future release. Instead, use the `settings` module directly to configure a global setting's value. For example, `ox.settings.log_console=True`.\n",
      "  ox.config(use_cache=True, log_console=True, useful_tags_way=utw)\n"
     ]
    }
   ],
   "source": [
    "#Import additional OSM tags for pulling data from OSMNX\n",
    "# Get the path to the data directory within the package\n",
    "\n",
    "with open ('tags.txt', 'r') as f:\n",
    "    tags_to_add = [row[0] for row in csv.reader(f,delimiter=',')]\n",
    "\n",
    "utw = ox.settings.useful_tags_way + tags_to_add\n",
    "ox.config(use_cache=True, log_console=True, useful_tags_way=utw)"
   ]
  },
  {
   "cell_type": "code",
   "execution_count": 3,
   "metadata": {},
   "outputs": [],
   "source": [
    "bounding_box = tuple([-2.0662398054949476,52.661464928722836,-2.013967332325004,52.69323638579371])"
   ]
  },
  {
   "cell_type": "code",
   "execution_count": 5,
   "metadata": {},
   "outputs": [
    {
     "name": "stderr",
     "output_type": "stream",
     "text": [
      "C:\\Users\\cconlan\\AppData\\Local\\Temp\\ipykernel_28256\\1020861324.py:18: UserWarning: Geometry is in a geographic CRS. Results from 'centroid' are likely incorrect. Use 'GeoSeries.to_crs()' to re-project geometries to a projected CRS before this operation.\n",
      "\n",
      "  edge_attributes['cent_x'] = edge_attributes['geometry'].centroid.x\n",
      "C:\\Users\\cconlan\\AppData\\Local\\Temp\\ipykernel_28256\\1020861324.py:19: UserWarning: Geometry is in a geographic CRS. Results from 'centroid' are likely incorrect. Use 'GeoSeries.to_crs()' to re-project geometries to a projected CRS before this operation.\n",
      "\n",
      "  edge_attributes['cent_y'] = edge_attributes['geometry'].centroid.y\n"
     ]
    }
   ],
   "source": [
    "#Define weight matrices for different users\n",
    "weights_beginner = {0:0.1,1:0.2,2:2,3:4,4:10}\n",
    "weights_eager = {0:0.1,1:0.2,2:1.2,3:2,4:5}\n",
    "weights_experienced = {0:0.1,1:0.1,2:0.25,3:1,4:1.5}\n",
    "\n",
    "cyclist_types = {\n",
    "    'beginner':cyclist(description = 'Beginner', cycle_speed=4.5, risk_weights=weights_beginner,risk_allowance = 3, risk_decay = 2),\n",
    "    'eager':cyclist(description = 'Eager', cycle_speed=5.5, risk_weights=weights_eager,risk_allowance = 2, risk_decay = 2),\n",
    "    'experienced':cyclist(description = 'Experienced', cycle_speed=6, risk_weights=weights_experienced,risk_allowance = 1.2, risk_decay = 2)\n",
    "}\n",
    "\n",
    "#Get data from OSMNX\n",
    "G = ox.graph_from_bbox(bounding_box[3],bounding_box[1], bounding_box[0], bounding_box[2],network_type = 'bike', retain_all=True, simplify=False)\n",
    "\n",
    "#Get edge attributes\n",
    "edge_attributes = ox.graph_to_gdfs(G, nodes=True)[1]\n",
    "#Get edge centroids\n",
    "edge_attributes['cent_x'] = edge_attributes['geometry'].centroid.x\n",
    "edge_attributes['cent_y'] = edge_attributes['geometry'].centroid.y\n",
    "#Add edge index\n",
    "edge_attributes['edge_index'] = range(len(edge_attributes))"
   ]
  },
  {
   "cell_type": "code",
   "execution_count": 6,
   "metadata": {},
   "outputs": [
    {
     "name": "stdout",
     "output_type": "stream",
     "text": [
      "Imputing Max Speed\n",
      "Imputing data using method - Mode Rule\n",
      "Data imputed\n"
     ]
    }
   ],
   "source": [
    "impute_method = 'mode-rule'\n",
    "\n",
    "#Impute Max Speed\n",
    "print('Imputing Max Speed')\n",
    "tag_to_impute = 'maxspeed'\n",
    "#Imputation masks\n",
    "edge_attributes['maxspeed'] = edge_attributes['maxspeed'].replace('signals',np.nan)\n",
    "var_exists, var_to_impute = get_impute_masks(tag_to_impute,edge_attributes)\n",
    "#Get ML training sets\n",
    "target_to_num, num_to_target, target, y_int, y_onehot, x_hot = feature_learning_train_sets(edge_attributes, tag_to_impute, tags_to_add)\n",
    "#Impute missing data\n",
    "if impute_method == 'knn-dist':\n",
    "    print('Imputing data using method - KNN Dist')\n",
    "    imputed_vals = knn_dist_impute(edge_attributes,var_exists,var_to_impute,tag_to_impute)\n",
    "elif impute_method == 'knn-feats':\n",
    "    print('Imputing data using method - KNN Feats')\n",
    "    #todo: default value for k\n",
    "    imputed_vals = knn_feats(x_hot,var_exists,target,var_to_impute,k = 3)\n",
    "elif impute_method == 'mode-rule':\n",
    "    print('Imputing data using method - Mode Rule')\n",
    "    imputed_vals = mode_rule(edge_attributes,var_exists,var_to_impute,tag_to_impute)\n",
    "    print('Data imputed')\n",
    "elif impute_method == 'mlp':\n",
    "    print('Imputing data using method - MLP')\n",
    "    imputed_vals = mlp_impute(y_onehot,x_hot,mlp_train_params['hidden_layer'],var_exists,var_to_impute,mlp_train_params['batch_size'],mlp_train_params['n_epochs'],num_to_target)\n",
    "elif impute_method == 'ottawa':\n",
    "    print('Imputing data using method - MLP')\n",
    "    print('WARNING : This method has hardcoded values specific to a UK setting.')\n",
    "    imputed_vals = ottawa_impute_speed(edge_attributes,var_to_impute)\n",
    "\n",
    "#Add imputed values to edge_attributes\n",
    "edge_attributes.loc[var_to_impute,tag_to_impute] = imputed_vals\n",
    "speed_num = []\n",
    "for i in list(edge_attributes[tag_to_impute].values):\n",
    "    if type(i) != int:\n",
    "        speed_num.append(int(\"\".join(filter(str.isdigit, i))))\n",
    "    else:\n",
    "        speed_num.append(i)\n",
    "edge_attributes[tag_to_impute] = speed_num\n",
    "\n",
    "#Replace dupes on osmid with mode\n",
    "edge_attributes = dedupe_var_replace(edge_attributes,tag_to_impute)"
   ]
  },
  {
   "cell_type": "code",
   "execution_count": 7,
   "metadata": {},
   "outputs": [
    {
     "name": "stdout",
     "output_type": "stream",
     "text": [
      "Imputing Number of Lanes\n",
      "Imputing data using method - Mode Rule\n",
      "Data imputed\n"
     ]
    }
   ],
   "source": [
    "#Impute Lanes\n",
    "print('Imputing Number of Lanes')\n",
    "\n",
    "tag_to_impute = 'lanes'\n",
    "#Imputation masks\n",
    "var_exists, var_to_impute = get_impute_masks(tag_to_impute,edge_attributes)\n",
    "#Get ML training sets\n",
    "target_to_num, num_to_target, target, y_int, y_onehot, x_hot = feature_learning_train_sets(edge_attributes, tag_to_impute, tags_to_add)\n",
    "#Impute missing data\n",
    "if impute_method == 'knn-dist':\n",
    "    print('Imputing data using method - KNN Dist')\n",
    "    imputed_vals = knn_dist_impute(edge_attributes,var_exists,var_to_impute,tag_to_impute)\n",
    "elif impute_method == 'knn-feats':\n",
    "    print('Imputing data using method - KNN Feats')\n",
    "    #todo: default value for k\n",
    "    imputed_vals = knn_feats(x_hot,var_exists,target,var_to_impute,k = 3)\n",
    "elif impute_method == 'mode-rule':\n",
    "    print('Imputing data using method - Mode Rule')\n",
    "    imputed_vals = mode_rule(edge_attributes,var_exists,var_to_impute,tag_to_impute)\n",
    "    print('Data imputed')\n",
    "elif impute_method == 'mlp':\n",
    "    print('Imputing data using method - MLP')\n",
    "    imputed_vals = mlp_impute(y_onehot,x_hot,mlp_train_params['hidden_layer'],var_exists,var_to_impute,mlp_train_params['batch_size'],mlp_train_params['n_epochs'],num_to_target)\n",
    "    \n",
    "if impute_method == 'ottawa':\n",
    "    edge_attributes.loc[var_to_impute,tag_to_impute] = 2\n",
    "    edge_attributes[tag_to_impute] = edge_attributes[tag_to_impute].astype(float)\n",
    "else:\n",
    "    edge_attributes.loc[var_to_impute,tag_to_impute] = imputed_vals\n",
    "    edge_attributes[tag_to_impute] = edge_attributes[tag_to_impute].astype(float)\n",
    "\n",
    "edge_attributes = dedupe_var_replace(edge_attributes,tag_to_impute)"
   ]
  },
  {
   "cell_type": "code",
   "execution_count": 8,
   "metadata": {},
   "outputs": [
    {
     "name": "stdout",
     "output_type": "stream",
     "text": [
      "Imputing Surface\n",
      "Imputing data using method - mode rule\n",
      "Data imputed\n"
     ]
    }
   ],
   "source": [
    "#Impute Surface\n",
    "print('Imputing Surface')\n",
    "\n",
    "tag_to_impute = 'surface'\n",
    "#Imputation masks\n",
    "var_exists, var_to_impute = get_impute_masks(tag_to_impute,edge_attributes)\n",
    "#Get ML training sets\n",
    "target_to_num, num_to_target, target, y_int, y_onehot, x_hot = feature_learning_train_sets(edge_attributes, tag_to_impute, tags_to_add)\n",
    "\n",
    "#Impute missing data\n",
    "if impute_method == 'knn-dist':\n",
    "    print('Imputing data using method - KNN Dist')\n",
    "    imputed_vals = knn_dist_impute(edge_attributes,var_exists,var_to_impute,tag_to_impute)\n",
    "elif impute_method == 'knn-feats':\n",
    "    print('Imputing data using method - KNN Feats')\n",
    "    #todo: default value for k\n",
    "    imputed_vals = knn_feats(x_hot,var_exists,target,var_to_impute,k = 3)\n",
    "elif impute_method == 'mode-rule':\n",
    "    print('Imputing data using method - mode rule')\n",
    "    imputed_vals = mode_rule(edge_attributes,var_exists,var_to_impute,tag_to_impute)\n",
    "    print('Data imputed')\n",
    "elif impute_method == 'mlp':\n",
    "    print('Imputing data using method - MLP')\n",
    "    imputed_vals = mlp_impute(y_onehot,x_hot,mlp_train_params['hidden_layer'],var_exists,var_to_impute,mlp_train_params['batch_size'],mlp_train_params['n_epochs'],num_to_target)\n",
    "\n",
    "if impute_method != 'ottawa':\n",
    "    edge_attributes.loc[var_to_impute,tag_to_impute] = imputed_vals\n",
    "    edge_attributes = dedupe_var_replace(edge_attributes,tag_to_impute)"
   ]
  },
  {
   "cell_type": "code",
   "execution_count": 11,
   "metadata": {},
   "outputs": [],
   "source": [
    "#Add in Access and Footway tags if missing for LTS classification\n",
    "if 'access' not in edge_attributes.columns:\n",
    "    edge_attributes['access'] = 'NAN'\n",
    "if 'footway' not in edge_attributes.columns:\n",
    "    edge_attributes['footway'] = 'NAN'\n",
    "if 'bicycle' not in edge_attributes.columns:\n",
    "    edge_attributes['bicycle'] = 'NAN'"
   ]
  },
  {
   "cell_type": "code",
   "execution_count": 12,
   "metadata": {},
   "outputs": [
    {
     "name": "stdout",
     "output_type": "stream",
     "text": [
      "Calculating LTS using Ottawa Advocacy Group method\n"
     ]
    }
   ],
   "source": [
    "lts_method = 'ottawa'\n",
    "\n",
    "#Compute Edge-Level LTS \n",
    "if lts_method == 'ottawa':\n",
    "    print('Calculating LTS using Ottawa Advocacy Group method')\n",
    "    lts = lts_ottawa(edge_attributes)\n",
    "    edge_attributes['LTS'] = lts['LTS_ottawa']\n",
    "    edge_attributes = pd.concat([edge_attributes, pd.get_dummies(lts['LTS_ottawa'])], axis=1)\n",
    "elif lts_method == 'self-learn':\n",
    "    print('Calculating LTS using Self-Learning Approach')\n",
    "    print('WARNING : this approach is under development, please check your results carefully')\n",
    "    lts = self_learn(edge_attributes,self_learn_k)\n",
    "    edge_attributes['LTS'] = lts['cluster']\n",
    "    edge_attributes = pd.concat([edge_attributes, pd.get_dummies(lts['cluster'])], axis=1)"
   ]
  },
  {
   "cell_type": "code",
   "execution_count": 13,
   "metadata": {},
   "outputs": [],
   "source": [
    "for col in [0,1,2,3,4]:\n",
    "    if col not in edge_attributes.columns:\n",
    "        edge_attributes[col] = 0"
   ]
  },
  {
   "cell_type": "code",
   "execution_count": 14,
   "metadata": {},
   "outputs": [
    {
     "data": {
      "text/plain": [
       "3    8807\n",
       "2    3810\n",
       "1     457\n",
       "4     358\n",
       "0      39\n",
       "Name: LTS, dtype: int64"
      ]
     },
     "execution_count": 14,
     "metadata": {},
     "output_type": "execute_result"
    }
   ],
   "source": [
    "edge_attributes['LTS'].value_counts()"
   ]
  },
  {
   "cell_type": "code",
   "execution_count": 25,
   "metadata": {},
   "outputs": [],
   "source": [
    "#Compute edge-level access cost for each user type\n",
    "risk_vectors = np.zeros((len(edge_attributes),3))\n",
    "it = 0"
   ]
  },
  {
   "cell_type": "code",
   "execution_count": 23,
   "metadata": {},
   "outputs": [
    {
     "data": {
      "text/plain": [
       "array([[0., 0., 0.],\n",
       "       [0., 0., 0.],\n",
       "       [0., 0., 0.],\n",
       "       ...,\n",
       "       [0., 0., 0.],\n",
       "       [0., 0., 0.],\n",
       "       [0., 0., 0.]])"
      ]
     },
     "execution_count": 23,
     "metadata": {},
     "output_type": "execute_result"
    }
   ],
   "source": [
    "risk_vectors"
   ]
  },
  {
   "cell_type": "code",
   "execution_count": 30,
   "metadata": {},
   "outputs": [
    {
     "ename": "KeyError",
     "evalue": "0",
     "output_type": "error",
     "traceback": [
      "\u001b[1;31m---------------------------------------------------------------------------\u001b[0m",
      "\u001b[1;31mKeyError\u001b[0m                                  Traceback (most recent call last)",
      "\u001b[1;32mc:\\Users\\cconlan\\AppData\\Local\\anaconda3\\envs\\ate-bike\\lib\\site-packages\\pandas\\core\\indexes\\base.py\u001b[0m in \u001b[0;36mget_loc\u001b[1;34m(self, key, method, tolerance)\u001b[0m\n\u001b[0;32m   3802\u001b[0m             \u001b[1;32mtry\u001b[0m\u001b[1;33m:\u001b[0m\u001b[1;33m\u001b[0m\u001b[1;33m\u001b[0m\u001b[0m\n\u001b[1;32m-> 3803\u001b[1;33m                 \u001b[1;32mreturn\u001b[0m \u001b[0mself\u001b[0m\u001b[1;33m.\u001b[0m\u001b[0m_engine\u001b[0m\u001b[1;33m.\u001b[0m\u001b[0mget_loc\u001b[0m\u001b[1;33m(\u001b[0m\u001b[0mcasted_key\u001b[0m\u001b[1;33m)\u001b[0m\u001b[1;33m\u001b[0m\u001b[1;33m\u001b[0m\u001b[0m\n\u001b[0m\u001b[0;32m   3804\u001b[0m             \u001b[1;32mexcept\u001b[0m \u001b[0mKeyError\u001b[0m \u001b[1;32mas\u001b[0m \u001b[0merr\u001b[0m\u001b[1;33m:\u001b[0m\u001b[1;33m\u001b[0m\u001b[1;33m\u001b[0m\u001b[0m\n",
      "\u001b[1;32mc:\\Users\\cconlan\\AppData\\Local\\anaconda3\\envs\\ate-bike\\lib\\site-packages\\pandas\\_libs\\index.pyx\u001b[0m in \u001b[0;36mpandas._libs.index.IndexEngine.get_loc\u001b[1;34m()\u001b[0m\n",
      "\u001b[1;32mc:\\Users\\cconlan\\AppData\\Local\\anaconda3\\envs\\ate-bike\\lib\\site-packages\\pandas\\_libs\\index.pyx\u001b[0m in \u001b[0;36mpandas._libs.index.IndexEngine.get_loc\u001b[1;34m()\u001b[0m\n",
      "\u001b[1;32mpandas\\_libs\\hashtable_class_helper.pxi\u001b[0m in \u001b[0;36mpandas._libs.hashtable.PyObjectHashTable.get_item\u001b[1;34m()\u001b[0m\n",
      "\u001b[1;32mpandas\\_libs\\hashtable_class_helper.pxi\u001b[0m in \u001b[0;36mpandas._libs.hashtable.PyObjectHashTable.get_item\u001b[1;34m()\u001b[0m\n",
      "\u001b[1;31mKeyError\u001b[0m: 0",
      "\nThe above exception was the direct cause of the following exception:\n",
      "\u001b[1;31mKeyError\u001b[0m                                  Traceback (most recent call last)",
      "\u001b[1;32m~\\AppData\\Local\\Temp\\ipykernel_30260\\3870016978.py\u001b[0m in \u001b[0;36m<module>\u001b[1;34m\u001b[0m\n\u001b[1;32m----> 1\u001b[1;33m \u001b[0mcyclist_types\u001b[0m\u001b[1;33m[\u001b[0m\u001b[1;34m'beginner'\u001b[0m\u001b[1;33m]\u001b[0m\u001b[1;33m.\u001b[0m\u001b[0mreturn_beta_linear\u001b[0m\u001b[1;33m(\u001b[0m\u001b[0mr\u001b[0m\u001b[1;33m)\u001b[0m\u001b[1;33m\u001b[0m\u001b[1;33m\u001b[0m\u001b[0m\n\u001b[0m",
      "\u001b[1;32m~\\AppData\\Local\\Temp\\ipykernel_30260\\215216522.py\u001b[0m in \u001b[0;36mreturn_beta_linear\u001b[1;34m(self, edge)\u001b[0m\n\u001b[0;32m     18\u001b[0m         \u001b[0mself\u001b[0m\u001b[1;33m.\u001b[0m\u001b[0mrisk_decay\u001b[0m \u001b[1;33m=\u001b[0m \u001b[0mrisk_decay\u001b[0m\u001b[1;33m\u001b[0m\u001b[1;33m\u001b[0m\u001b[0m\n\u001b[0;32m     19\u001b[0m     \u001b[1;32mdef\u001b[0m \u001b[0mreturn_beta_linear\u001b[0m\u001b[1;33m(\u001b[0m\u001b[0mself\u001b[0m\u001b[1;33m,\u001b[0m\u001b[0medge\u001b[0m\u001b[1;33m)\u001b[0m\u001b[1;33m:\u001b[0m\u001b[1;33m\u001b[0m\u001b[1;33m\u001b[0m\u001b[0m\n\u001b[1;32m---> 20\u001b[1;33m         \u001b[0mbeta\u001b[0m \u001b[1;33m=\u001b[0m \u001b[1;33m(\u001b[0m\u001b[0medge\u001b[0m\u001b[1;33m[\u001b[0m\u001b[1;36m0\u001b[0m\u001b[1;33m]\u001b[0m \u001b[1;33m*\u001b[0m \u001b[0mself\u001b[0m\u001b[1;33m.\u001b[0m\u001b[0mrisk_weights\u001b[0m\u001b[1;33m[\u001b[0m\u001b[1;36m0\u001b[0m\u001b[1;33m]\u001b[0m\u001b[1;33m)\u001b[0m \u001b[1;33m+\u001b[0m \u001b[1;33m(\u001b[0m\u001b[0medge\u001b[0m\u001b[1;33m[\u001b[0m\u001b[1;36m1\u001b[0m\u001b[1;33m]\u001b[0m \u001b[1;33m*\u001b[0m \u001b[0mself\u001b[0m\u001b[1;33m.\u001b[0m\u001b[0mrisk_weights\u001b[0m\u001b[1;33m[\u001b[0m\u001b[1;36m1\u001b[0m\u001b[1;33m]\u001b[0m\u001b[1;33m)\u001b[0m \u001b[1;33m+\u001b[0m \u001b[1;33m(\u001b[0m\u001b[0medge\u001b[0m\u001b[1;33m[\u001b[0m\u001b[1;36m2\u001b[0m\u001b[1;33m]\u001b[0m \u001b[1;33m*\u001b[0m \u001b[0mself\u001b[0m\u001b[1;33m.\u001b[0m\u001b[0mrisk_weights\u001b[0m\u001b[1;33m[\u001b[0m\u001b[1;36m2\u001b[0m\u001b[1;33m]\u001b[0m\u001b[1;33m)\u001b[0m \u001b[1;33m+\u001b[0m \u001b[1;33m(\u001b[0m\u001b[0medge\u001b[0m\u001b[1;33m[\u001b[0m\u001b[1;36m3\u001b[0m\u001b[1;33m]\u001b[0m \u001b[1;33m*\u001b[0m \u001b[0mself\u001b[0m\u001b[1;33m.\u001b[0m\u001b[0mrisk_weights\u001b[0m\u001b[1;33m[\u001b[0m\u001b[1;36m3\u001b[0m\u001b[1;33m]\u001b[0m\u001b[1;33m)\u001b[0m \u001b[1;33m+\u001b[0m \u001b[1;33m(\u001b[0m\u001b[0medge\u001b[0m\u001b[1;33m[\u001b[0m\u001b[1;36m4\u001b[0m\u001b[1;33m]\u001b[0m \u001b[1;33m*\u001b[0m \u001b[0mself\u001b[0m\u001b[1;33m.\u001b[0m\u001b[0mrisk_weights\u001b[0m\u001b[1;33m[\u001b[0m\u001b[1;36m4\u001b[0m\u001b[1;33m]\u001b[0m\u001b[1;33m)\u001b[0m\u001b[1;33m\u001b[0m\u001b[1;33m\u001b[0m\u001b[0m\n\u001b[0m\u001b[0;32m     21\u001b[0m         \u001b[1;32mreturn\u001b[0m \u001b[0mbeta\u001b[0m\u001b[1;33m\u001b[0m\u001b[1;33m\u001b[0m\u001b[0m\n",
      "\u001b[1;32mc:\\Users\\cconlan\\AppData\\Local\\anaconda3\\envs\\ate-bike\\lib\\site-packages\\pandas\\core\\series.py\u001b[0m in \u001b[0;36m__getitem__\u001b[1;34m(self, key)\u001b[0m\n\u001b[0;32m    979\u001b[0m \u001b[1;33m\u001b[0m\u001b[0m\n\u001b[0;32m    980\u001b[0m         \u001b[1;32melif\u001b[0m \u001b[0mkey_is_scalar\u001b[0m\u001b[1;33m:\u001b[0m\u001b[1;33m\u001b[0m\u001b[1;33m\u001b[0m\u001b[0m\n\u001b[1;32m--> 981\u001b[1;33m             \u001b[1;32mreturn\u001b[0m \u001b[0mself\u001b[0m\u001b[1;33m.\u001b[0m\u001b[0m_get_value\u001b[0m\u001b[1;33m(\u001b[0m\u001b[0mkey\u001b[0m\u001b[1;33m)\u001b[0m\u001b[1;33m\u001b[0m\u001b[1;33m\u001b[0m\u001b[0m\n\u001b[0m\u001b[0;32m    982\u001b[0m \u001b[1;33m\u001b[0m\u001b[0m\n\u001b[0;32m    983\u001b[0m         \u001b[1;32mif\u001b[0m \u001b[0mis_hashable\u001b[0m\u001b[1;33m(\u001b[0m\u001b[0mkey\u001b[0m\u001b[1;33m)\u001b[0m\u001b[1;33m:\u001b[0m\u001b[1;33m\u001b[0m\u001b[1;33m\u001b[0m\u001b[0m\n",
      "\u001b[1;32mc:\\Users\\cconlan\\AppData\\Local\\anaconda3\\envs\\ate-bike\\lib\\site-packages\\pandas\\core\\series.py\u001b[0m in \u001b[0;36m_get_value\u001b[1;34m(self, label, takeable)\u001b[0m\n\u001b[0;32m   1087\u001b[0m \u001b[1;33m\u001b[0m\u001b[0m\n\u001b[0;32m   1088\u001b[0m         \u001b[1;31m# Similar to Index.get_value, but we do not fall back to positional\u001b[0m\u001b[1;33m\u001b[0m\u001b[1;33m\u001b[0m\u001b[0m\n\u001b[1;32m-> 1089\u001b[1;33m         \u001b[0mloc\u001b[0m \u001b[1;33m=\u001b[0m \u001b[0mself\u001b[0m\u001b[1;33m.\u001b[0m\u001b[0mindex\u001b[0m\u001b[1;33m.\u001b[0m\u001b[0mget_loc\u001b[0m\u001b[1;33m(\u001b[0m\u001b[0mlabel\u001b[0m\u001b[1;33m)\u001b[0m\u001b[1;33m\u001b[0m\u001b[1;33m\u001b[0m\u001b[0m\n\u001b[0m\u001b[0;32m   1090\u001b[0m         \u001b[1;32mreturn\u001b[0m \u001b[0mself\u001b[0m\u001b[1;33m.\u001b[0m\u001b[0mindex\u001b[0m\u001b[1;33m.\u001b[0m\u001b[0m_get_values_for_loc\u001b[0m\u001b[1;33m(\u001b[0m\u001b[0mself\u001b[0m\u001b[1;33m,\u001b[0m \u001b[0mloc\u001b[0m\u001b[1;33m,\u001b[0m \u001b[0mlabel\u001b[0m\u001b[1;33m)\u001b[0m\u001b[1;33m\u001b[0m\u001b[1;33m\u001b[0m\u001b[0m\n\u001b[0;32m   1091\u001b[0m \u001b[1;33m\u001b[0m\u001b[0m\n",
      "\u001b[1;32mc:\\Users\\cconlan\\AppData\\Local\\anaconda3\\envs\\ate-bike\\lib\\site-packages\\pandas\\core\\indexes\\base.py\u001b[0m in \u001b[0;36mget_loc\u001b[1;34m(self, key, method, tolerance)\u001b[0m\n\u001b[0;32m   3803\u001b[0m                 \u001b[1;32mreturn\u001b[0m \u001b[0mself\u001b[0m\u001b[1;33m.\u001b[0m\u001b[0m_engine\u001b[0m\u001b[1;33m.\u001b[0m\u001b[0mget_loc\u001b[0m\u001b[1;33m(\u001b[0m\u001b[0mcasted_key\u001b[0m\u001b[1;33m)\u001b[0m\u001b[1;33m\u001b[0m\u001b[1;33m\u001b[0m\u001b[0m\n\u001b[0;32m   3804\u001b[0m             \u001b[1;32mexcept\u001b[0m \u001b[0mKeyError\u001b[0m \u001b[1;32mas\u001b[0m \u001b[0merr\u001b[0m\u001b[1;33m:\u001b[0m\u001b[1;33m\u001b[0m\u001b[1;33m\u001b[0m\u001b[0m\n\u001b[1;32m-> 3805\u001b[1;33m                 \u001b[1;32mraise\u001b[0m \u001b[0mKeyError\u001b[0m\u001b[1;33m(\u001b[0m\u001b[0mkey\u001b[0m\u001b[1;33m)\u001b[0m \u001b[1;32mfrom\u001b[0m \u001b[0merr\u001b[0m\u001b[1;33m\u001b[0m\u001b[1;33m\u001b[0m\u001b[0m\n\u001b[0m\u001b[0;32m   3806\u001b[0m             \u001b[1;32mexcept\u001b[0m \u001b[0mTypeError\u001b[0m\u001b[1;33m:\u001b[0m\u001b[1;33m\u001b[0m\u001b[1;33m\u001b[0m\u001b[0m\n\u001b[0;32m   3807\u001b[0m                 \u001b[1;31m# If we have a listlike key, _check_indexing_error will raise\u001b[0m\u001b[1;33m\u001b[0m\u001b[1;33m\u001b[0m\u001b[0m\n",
      "\u001b[1;31mKeyError\u001b[0m: 0"
     ]
    }
   ],
   "source": [
    "cyclist_types['beginner'].return_beta_linear(r)"
   ]
  },
  {
   "cell_type": "code",
   "execution_count": null,
   "metadata": {},
   "outputs": [],
   "source": [
    "\n",
    "normalized_risk_vectors = 1 + (risk_vectors - risk_vectors.min()) / (risk_vectors.max() - risk_vectors.min())\n",
    "\n",
    "it = 0\n",
    "for i,r in edge_attributes.iterrows():\n",
    "    G[i[0]][i[1]][i[2]]['ac_beginner'] = normalized_risk_vectors[it,0] * r['length']\n",
    "    G[i[0]][i[1]][i[2]]['ac_eager'] = normalized_risk_vectors[it,1] * r['length']\n",
    "    G[i[0]][i[1]][i[2]]['ac_expert'] = normalized_risk_vectors[it,2] * r['length']\n",
    "    G[i[0]][i[1]][i[2]]['time_beginner'] = r['length']/cyclist_types['beginner'].cycle_speed\n",
    "    G[i[0]][i[1]][i[2]]['time_eager'] = r['length']/cyclist_types['eager'].cycle_speed\n",
    "    G[i[0]][i[1]][i[2]]['time_expert'] = r['length']/cyclist_types['experienced'].cycle_speed"
   ]
  }
 ],
 "metadata": {
  "kernelspec": {
   "display_name": "Python 3",
   "language": "python",
   "name": "python3"
  },
  "language_info": {
   "codemirror_mode": {
    "name": "ipython",
    "version": 3
   },
   "file_extension": ".py",
   "mimetype": "text/x-python",
   "name": "python",
   "nbconvert_exporter": "python",
   "pygments_lexer": "ipython3",
   "version": "3.10.9"
  }
 },
 "nbformat": 4,
 "nbformat_minor": 2
}
