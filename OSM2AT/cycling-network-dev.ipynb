{
 "cells": [
  {
   "cell_type": "markdown",
   "metadata": {},
   "source": [
    "## Development Notepad for \"get_cycle_network\" function\n",
    "\n",
    "Function description:\n",
    "For a given bounding box returns a network of cyclable roads with some measure of cyclability against each.\n",
    "\n",
    "User inputs\n",
    "- Bounding box\n",
    "- Impute method\n",
    "- Self learn LTS\n",
    "- User defined cyclist\n",
    "\n",
    "Output\n",
    "- G, edge/node attributes\n",
    "\n",
    "\n",
    "Funcion flow\n",
    "1. Use bounding box to go to osmnx and pull network\n",
    "2. Impute missing data using given method\n",
    "3. Run model of LTS (either Ottawa or self learn)\n",
    "4. Append any other features\n",
    "5. Compute access costs for pre-defined user types\n",
    "6. If additional user types also compute access cost"
   ]
  },
  {
   "cell_type": "code",
   "execution_count": 2,
   "metadata": {},
   "outputs": [],
   "source": [
    "import osmnx as ox\n",
    "import csv\n",
    "import shapely\n",
    "import numpy as np\n",
    "import pandas as pd\n",
    "from Functions.imputation_missing_data import knn_dist_impute,get_impute_masks, feature_learning_train_sets, mode_rule,knn_feats,mlp_impute, ottawa_impute_speed\n",
    "from Functions.LTS import lts_ottawa\n",
    "from Functions.self_learning import self_learn\n",
    "from Functions.helper_functions import dedupe_var_replace"
   ]
  },
  {
   "cell_type": "code",
   "execution_count": 3,
   "metadata": {},
   "outputs": [],
   "source": [
    "tag_file = 'tags.txt'\n",
    "with open (tag_file, 'r') as f:\n",
    "    tags_to_add = [row[0] for row in csv.reader(f,delimiter=',')]"
   ]
  },
  {
   "cell_type": "markdown",
   "metadata": {},
   "source": [
    "Part 1 - using bounding box pull osmnx network"
   ]
  },
  {
   "cell_type": "code",
   "execution_count": 4,
   "metadata": {},
   "outputs": [],
   "source": [
    "bounding_box = tuple([-0.097933,51.457054,-0.041285,51.486933])"
   ]
  },
  {
   "cell_type": "code",
   "execution_count": 5,
   "metadata": {},
   "outputs": [
    {
     "name": "stderr",
     "output_type": "stream",
     "text": [
      "C:\\Users\\cconlan\\AppData\\Local\\Temp\\ipykernel_11396\\262869766.py:4: UserWarning: The `utils.config` function is deprecated and will be removed in a future release. Instead, use the `settings` module directly to configure a global setting's value. For example, `ox.settings.log_console=True`.\n",
      "  ox.config(use_cache=True, log_console=True, useful_tags_way=utw)\n"
     ]
    }
   ],
   "source": [
    "network_type = 'bike'\n",
    "\n",
    "utw = ox.settings.useful_tags_way + tags_to_add\n",
    "ox.config(use_cache=True, log_console=True, useful_tags_way=utw)\n",
    "\n",
    "#Get data from OSMNX\n",
    "G = ox.graph_from_bbox(bounding_box[3],bounding_box[1], bounding_box[0], bounding_box[2],network_type = network_type, retain_all=True, simplify=False)"
   ]
  },
  {
   "cell_type": "code",
   "execution_count": 6,
   "metadata": {},
   "outputs": [
    {
     "name": "stderr",
     "output_type": "stream",
     "text": [
      "C:\\Users\\cconlan\\AppData\\Local\\Temp\\ipykernel_11396\\2075906616.py:4: UserWarning: Geometry is in a geographic CRS. Results from 'centroid' are likely incorrect. Use 'GeoSeries.to_crs()' to re-project geometries to a projected CRS before this operation.\n",
      "\n",
      "  edge_attributes['cent_x'] = edge_attributes['geometry'].centroid.x\n",
      "C:\\Users\\cconlan\\AppData\\Local\\Temp\\ipykernel_11396\\2075906616.py:5: UserWarning: Geometry is in a geographic CRS. Results from 'centroid' are likely incorrect. Use 'GeoSeries.to_crs()' to re-project geometries to a projected CRS before this operation.\n",
      "\n",
      "  edge_attributes['cent_y'] = edge_attributes['geometry'].centroid.y\n"
     ]
    }
   ],
   "source": [
    "#Get edge attributes\n",
    "edge_attributes = ox.graph_to_gdfs(G, nodes=True)[1]\n",
    "#Get edge centroids\n",
    "edge_attributes['cent_x'] = edge_attributes['geometry'].centroid.x\n",
    "edge_attributes['cent_y'] = edge_attributes['geometry'].centroid.y\n",
    "#Add edge index\n",
    "edge_attributes['edge_index'] = range(len(edge_attributes))\n",
    "#Get boundary\n",
    "graph_boundary=shapely.geometry.box(edge_attributes.geometry.total_bounds[0],edge_attributes.geometry.total_bounds[1],edge_attributes.geometry.total_bounds[2],edge_attributes.geometry.total_bounds[3])"
   ]
  },
  {
   "cell_type": "markdown",
   "metadata": {},
   "source": [
    "Part 2 - Impute Missing Data\n",
    "\n",
    "Fields to imput: maxspeed, lanes, surface\n",
    "\n",
    "Methods: knn-dist, knn-feats, mode-rule, mlp, ottawa-rules"
   ]
  },
  {
   "cell_type": "code",
   "execution_count": 7,
   "metadata": {},
   "outputs": [
    {
     "name": "stdout",
     "output_type": "stream",
     "text": [
      "Imputing Max Speed\n",
      "Imputing data using method - KNN Feats\n",
      "Imputing Number of Lanes\n",
      "Imputing data using method - KNN Feats\n",
      "Imputing Surface\n",
      "Imputing data using method - KNN Feats\n"
     ]
    }
   ],
   "source": [
    "#Function params\n",
    "impute_method = 'knn-feats'\n",
    "mlp_train_params =  {\n",
    "    'hidden_layer' : 100,\n",
    "    'n_epochs' : 50,\n",
    "    'batch_size' : 10\n",
    "}\n",
    "\n",
    "#Impute Max Speed\n",
    "print('Imputing Max Speed')\n",
    "tag_to_impute = 'maxspeed'\n",
    "#Imputation masks\n",
    "var_exists, var_to_impute = get_impute_masks(tag_to_impute,edge_attributes)\n",
    "#Get ML training sets\n",
    "target_to_num, num_to_target, target, y_int, y_onehot, x_hot = feature_learning_train_sets(edge_attributes, tag_to_impute, tags_to_add)\n",
    "#Impute missing data\n",
    "if impute_method == 'knn-dist':\n",
    "    print('Imputing data using method - KNN Dist')\n",
    "    imputed_vals = knn_dist_impute(edge_attributes,var_exists,var_to_impute,tag_to_impute)\n",
    "elif impute_method == 'knn-feats':\n",
    "    print('Imputing data using method - KNN Feats')\n",
    "    #todo: default value for k\n",
    "    imputed_vals = knn_feats(x_hot,var_exists,target,var_to_impute,k = 3)\n",
    "elif impute_method == 'mode-rule':\n",
    "    print('Imputing data using method - KNN Feats')\n",
    "    imputed_vals = mode_rule(edge_attributes,var_exists,var_to_impute,tag_to_impute)\n",
    "elif impute_method == 'mlp':\n",
    "    print('Imputing data using method - MLP')\n",
    "    imputed_vals = mlp_impute(y_onehot,x_hot,mlp_train_params['hidden_layer'],var_exists,var_to_impute,mlp_train_params['batch_size'],mlp_train_params['n_epochs'],num_to_target)\n",
    "elif impute_method == 'ottawa':\n",
    "    print('Imputing data using method - MLP')\n",
    "    print('WARNING : This method has hardcoded values specific to a UK setting.')\n",
    "    imputed_vals = ottawa_impute_speed(edge_attributes,var_to_impute)\n",
    "    \n",
    "#Add imputed values to edge_attributes\n",
    "imp_index = 0\n",
    "for i,r in edge_attributes[var_to_impute].iterrows():\n",
    "    edge_attributes.loc[i,tag_to_impute] = imputed_vals[imp_index]\n",
    "    imp_index += 1\n",
    "speed_num = []\n",
    "for i in list(edge_attributes[tag_to_impute].values):\n",
    "    if type(i) != int:\n",
    "        speed_num.append(int(\"\".join(filter(str.isdigit, i))))\n",
    "    else:\n",
    "        speed_num.append(i)\n",
    "edge_attributes[tag_to_impute] = speed_num\n",
    "\n",
    "#Replace dupes on osmid with mode\n",
    "edge_attributes = dedupe_var_replace(edge_attributes,tag_to_impute)\n",
    "\n",
    "#Impute Lanes\n",
    "print('Imputing Number of Lanes')\n",
    "\n",
    "tag_to_impute = 'lanes'\n",
    "#Imputation masks\n",
    "var_exists, var_to_impute = get_impute_masks(tag_to_impute,edge_attributes)\n",
    "#Get ML training sets\n",
    "target_to_num, num_to_target, target, y_int, y_onehot, x_hot = feature_learning_train_sets(edge_attributes, tag_to_impute, tags_to_add)\n",
    "#Impute missing data\n",
    "if impute_method == 'knn-dist':\n",
    "    print('Imputing data using method - KNN Dist')\n",
    "    imputed_vals = knn_dist_impute(edge_attributes,var_exists,var_to_impute,tag_to_impute)\n",
    "elif impute_method == 'knn-feats':\n",
    "    print('Imputing data using method - KNN Feats')\n",
    "    #todo: default value for k\n",
    "    imputed_vals = knn_feats(x_hot,var_exists,target,var_to_impute,k = 3)\n",
    "elif impute_method == 'mode-rule':\n",
    "    print('Imputing data using method - KNN Feats')\n",
    "    imputed_vals = mode_rule(edge_attributes,var_exists,var_to_impute,tag_to_impute)\n",
    "elif impute_method == 'mlp':\n",
    "    print('Imputing data using method - MLP')\n",
    "    imputed_vals = mlp_impute(y_onehot,x_hot,mlp_train_params['hidden_layer'],var_exists,var_to_impute,mlp_train_params['batch_size'],mlp_train_params['n_epochs'],num_to_target)\n",
    "    \n",
    "if impute_method == 'ottawa':\n",
    "    for i,r in edge_attributes[var_to_impute].iterrows():\n",
    "        edge_attributes.loc[i,tag_to_impute] = 2\n",
    "else:\n",
    "    imp_index = 0\n",
    "    for i,r in edge_attributes[var_to_impute].iterrows():\n",
    "        edge_attributes.loc[i,tag_to_impute] = imputed_vals[imp_index]\n",
    "        imp_index += 1\n",
    "\n",
    "edge_attributes[tag_to_impute] = edge_attributes[tag_to_impute].values.astype(float)\n",
    "edge_attributes = dedupe_var_replace(edge_attributes,tag_to_impute)\n",
    "\n",
    "#Impute Surface\n",
    "print('Imputing Surface')\n",
    "\n",
    "tag_to_impute = 'surface'\n",
    "#Imputation masks\n",
    "var_exists, var_to_impute = get_impute_masks(tag_to_impute,edge_attributes)\n",
    "#Get ML training sets\n",
    "target_to_num, num_to_target, target, y_int, y_onehot, x_hot = feature_learning_train_sets(edge_attributes, tag_to_impute, tags_to_add)\n",
    "\n",
    "#Impute missing data\n",
    "if impute_method == 'knn-dist':\n",
    "    print('Imputing data using method - KNN Dist')\n",
    "    imputed_vals = knn_dist_impute(edge_attributes,var_exists,var_to_impute,tag_to_impute)\n",
    "elif impute_method == 'knn-feats':\n",
    "    print('Imputing data using method - KNN Feats')\n",
    "    #todo: default value for k\n",
    "    imputed_vals = knn_feats(x_hot,var_exists,target,var_to_impute,k = 3)\n",
    "elif impute_method == 'mode-rule':\n",
    "    print('Imputing data using method - mode rule')\n",
    "    imputed_vals = mode_rule(edge_attributes,var_exists,var_to_impute,tag_to_impute)\n",
    "elif impute_method == 'mlp':\n",
    "    print('Imputing data using method - MLP')\n",
    "    imputed_vals = mlp_impute(y_onehot,x_hot,mlp_train_params['hidden_layer'],var_exists,var_to_impute,mlp_train_params['batch_size'],mlp_train_params['n_epochs'],num_to_target)\n",
    "\n",
    "if impute_method != 'ottawa':\n",
    "    imp_index = 0\n",
    "    for i,r in edge_attributes[var_to_impute].iterrows():\n",
    "        edge_attributes.loc[i,tag_to_impute] = imputed_vals[imp_index]\n",
    "        imp_index += 1\n",
    "    edge_attributes = dedupe_var_replace(edge_attributes,tag_to_impute)"
   ]
  },
  {
   "cell_type": "markdown",
   "metadata": {},
   "source": [
    "Part 3 - Implement LTS\n",
    "\n",
    "Methods - Ottawa, self-learning"
   ]
  },
  {
   "cell_type": "code",
   "execution_count": 9,
   "metadata": {},
   "outputs": [],
   "source": [
    "lts_method = 'self-learn'\n",
    "k = 5"
   ]
  },
  {
   "cell_type": "code",
   "execution_count": 10,
   "metadata": {},
   "outputs": [
    {
     "name": "stdout",
     "output_type": "stream",
     "text": [
      "Calculating LTS using Self-Learning Approach\n",
      "WARNING : this approach is under development, please check results carefully\n"
     ]
    },
    {
     "name": "stderr",
     "output_type": "stream",
     "text": [
      "c:\\Users\\cconlan\\OneDrive - The Alan Turing Institute\\Documents\\Projects\\OSM2AT\\OSM2AT\\Functions\\self_learning.py:65: SettingWithCopyWarning: \n",
      "A value is trying to be set on a copy of a slice from a DataFrame.\n",
      "Try using .loc[row_indexer,col_indexer] = value instead\n",
      "\n",
      "See the caveats in the documentation: https://pandas.pydata.org/pandas-docs/stable/user_guide/indexing.html#returning-a-view-versus-a-copy\n",
      "  cluster_data['{}_zscore'.format(col)] = zscore(cluster_data[col])\n"
     ]
    }
   ],
   "source": [
    "if lts_method == 'ottawa':\n",
    "    print('Calculating LTS using Ottawa Advocacy Group method')\n",
    "    lts = lts_ottawa(edge_attributes)\n",
    "    edge_attributes['LTS'] = lts['LTS_ottawa']\n",
    "    edge_attributes = pd.concat([edge_attributes, pd.get_dummies(lts['LTS_ottawa'])], axis=1)\n",
    "elif lts_method == 'self-learn':\n",
    "    print('Calculating LTS using Self-Learning Approach')\n",
    "    print('WARNING : this approach is under development, please check your results carefully')\n",
    "    lts = self_learn(edge_attributes,k)\n",
    "    edge_attributes['LTS'] = lts['cluster']\n",
    "    edge_attributes = pd.concat([edge_attributes, pd.get_dummies(lts['cluster'])], axis=1)"
   ]
  },
  {
   "cell_type": "markdown",
   "metadata": {},
   "source": [
    "Part 4 - Additional Features\n",
    "\n",
    "To Do"
   ]
  },
  {
   "cell_type": "markdown",
   "metadata": {},
   "source": [
    "Part 5 - Compute Access per Edge for Pre-Specified Cyclist Types\n",
    "\n",
    "- User 1 - Beginner\n",
    "- User 2 - Eager but cautious\n",
    "- User 3 - Experienced"
   ]
  },
  {
   "cell_type": "code",
   "execution_count": 15,
   "metadata": {},
   "outputs": [],
   "source": [
    "class cyclist:\n",
    "    def __init__(self, description, cycle_speed, risk_weights, risk_allowance, risk_decay):\n",
    "        self.description = description\n",
    "        self.cycle_speed = cycle_speed\n",
    "        self.risk_weights = risk_weights\n",
    "        self.risk_allowance = risk_allowance\n",
    "        self.risk_decay = risk_decay\n",
    "    def return_beta_linear(self,edge):\n",
    "        beta = (edge[0] * self.risk_weights[0]) + (edge[1] * self.risk_weights[1]) + (edge[2] * self.risk_weights[2]) + (edge[3] * self.risk_weights[3]) + (edge[4] * self.risk_weights[4])\n",
    "        return beta"
   ]
  },
  {
   "cell_type": "code",
   "execution_count": 16,
   "metadata": {},
   "outputs": [],
   "source": [
    "#Define weight matrices for different users\n",
    "weights_beginner = {0:0.1,1:0.2,2:2,3:4,4:10}\n",
    "weights_eager = {0:0.1,1:0.2,2:1.2,3:2,4:5}\n",
    "weights_experienced = {0:0.1,1:0.1,2:0.25,3:1,4:1.5}\n",
    "\n",
    "#Define cyclist objects\n",
    "beginner = cyclist(description = 'Beginner', cycle_speed=4.5, risk_weights=weights_beginner,risk_allowance = 3, risk_decay = 2)\n",
    "eager = cyclist(description = 'Eager', cycle_speed=5.5, risk_weights=weights_eager,risk_allowance = 2, risk_decay = 2)\n",
    "experienced = cyclist(description = 'Experienced', cycle_speed=6, risk_weights=weights_experienced,risk_allowance = 1.2, risk_decay = 2)"
   ]
  },
  {
   "cell_type": "code",
   "execution_count": 17,
   "metadata": {},
   "outputs": [],
   "source": [
    "risk_vectors = np.zeros((len(edge_attributes),3))\n",
    "it = 0\n",
    "for i,r in edge_attributes.iterrows():\n",
    "    risk_vectors[it,0] = beginner.return_beta_linear(r)\n",
    "    risk_vectors[it,1] = eager.return_beta_linear(r)\n",
    "    risk_vectors[it,2] = experienced.return_beta_linear(r)\n",
    "    it += 1\n",
    "    \n",
    "normalized_risk_vectors = 1 + (risk_vectors - risk_vectors.min()) / (risk_vectors.max() - risk_vectors.min())\n",
    "\n",
    "it = 0\n",
    "for i,r in edge_attributes.iterrows():\n",
    "    G[i[0]][i[1]][i[2]]['ac_beginner'] = normalized_risk_vectors[it,0] * r['length']\n",
    "    G[i[0]][i[1]][i[2]]['ac_eager'] = normalized_risk_vectors[it,1] * r['length']\n",
    "    G[i[0]][i[1]][i[2]]['ac_expert'] = normalized_risk_vectors[it,2] * r['length']"
   ]
  },
  {
   "cell_type": "markdown",
   "metadata": {},
   "source": [
    "Part 6 - Compute access cost for user-specified cyclists\n",
    "\n",
    "ToDo"
   ]
  }
 ],
 "metadata": {
  "kernelspec": {
   "display_name": "Python 3",
   "language": "python",
   "name": "python3"
  },
  "language_info": {
   "codemirror_mode": {
    "name": "ipython",
    "version": 3
   },
   "file_extension": ".py",
   "mimetype": "text/x-python",
   "name": "python",
   "nbconvert_exporter": "python",
   "pygments_lexer": "ipython3",
   "version": "3.10.9"
  }
 },
 "nbformat": 4,
 "nbformat_minor": 2
}
